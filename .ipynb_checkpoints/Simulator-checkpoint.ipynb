{
 "cells": [
  {
   "cell_type": "code",
   "execution_count": 24,
   "metadata": {
    "collapsed": true
   },
   "outputs": [],
   "source": [
    "# imports\n",
    "import time\n",
    "import matplotlib.pyplot as plt\n",
    "import numpy as np\n",
    "from scipy.integrate import ode\n",
    "%matplotlib inline"
   ]
  },
  {
   "cell_type": "code",
   "execution_count": 2,
   "metadata": {
    "collapsed": true
   },
   "outputs": [],
   "source": [
    "#Input Parameters\n",
    "\n",
    "# fixed resistance\n",
    "R = 1800.0 # Ohm\n",
    "# capacitances\n",
    "C1 = 10.0**-8 # F\n",
    "C2 = 10.0**-7 # F\n",
    "# inductance\n",
    "L = 18.0 * 10**-3 # H\n",
    "\n",
    "# resistances inside the Chua diode\n",
    "R1 = 220.0 # Ohm\n",
    "R2 = 220.0 # Ohm\n",
    "R3 = 2200.0 # Ohm\n",
    "R4 = 22000.0 # Ohm\n",
    "R5 = 22000.0 # Ohm\n",
    "R6 = 3300.0 # Ohm\n",
    "\n",
    "# Satuation voltage\n",
    "E_sat = 9.0 # V"
   ]
  },
  {
   "cell_type": "code",
   "execution_count": 3,
   "metadata": {
    "collapsed": false
   },
   "outputs": [],
   "source": [
    "#Intermediate variables\n",
    "\n",
    "G = 1 / R\n",
    "\n",
    "m01 = 1 / R1\n",
    "m11 = -1 / R3\n",
    "BP1 = R3 / (R2 + R3) * E_sat\n",
    "\n",
    "m02 = 1 / R4\n",
    "m12 = -1 / R6\n",
    "BP2 = R6 / (R5 + R6) * E_sat\n",
    "\n",
    "m0 = m11 + m02\n",
    "m1 = m11 + m12\n",
    "\n",
    "qBP2 = m1*BP2\n",
    "qBP1 = m1*BP2+m0*(BP1-BP2)\n",
    "\n",
    "m_op = qBP1 / (E_sat - BP1)\n",
    "m_on = -m_op"
   ]
  },
  {
   "cell_type": "code",
   "execution_count": 4,
   "metadata": {
    "collapsed": true
   },
   "outputs": [],
   "source": [
    "def vi_char(v):\n",
    "    ''' \n",
    "    v-i characteristics - piecewise-linear function\n",
    "    input:  v = voltage across Chua diode\n",
    "    output: current across Chua diode, response\n",
    "    '''\n",
    "    abs_v = abs(v)\n",
    "    \n",
    "    if abs_v < BP2:\n",
    "        # inner segment\n",
    "        return m1*v \n",
    "    elif abs(v) < BP1:\n",
    "        # outer segments\n",
    "        if v > 0:\n",
    "            # positive side\n",
    "            return qBP2 + m0*(v-BP2)\n",
    "        else:\n",
    "            # negative side\n",
    "            return -qBP2 + m0*(v+BP2)\n",
    "    else:\n",
    "        # decaying segments\n",
    "        if v > 0:\n",
    "            # positive side\n",
    "            return qBP1 - m_op*(v-BP1)\n",
    "        else:\n",
    "            # negative side\n",
    "            return -qBP1 + m_on*(v+BP1)"
   ]
  },
  {
   "cell_type": "markdown",
   "metadata": {},
   "source": [
    "### plot of vi_char"
   ]
  },
  {
   "cell_type": "code",
   "execution_count": 5,
   "metadata": {
    "collapsed": false
   },
   "outputs": [
    {
     "data": {
      "image/png": "[encoded data removed]",
      "text/plain": [
       "<matplotlib.figure.Figure at 0xa970cf8>"
      ]
     },
     "metadata": {},
     "output_type": "display_data"
    }
   ],
   "source": [
    "# demonstration plot of v-i characteristics\n",
    "x = np.linspace(-E_sat, E_sat, 500)\n",
    "plt.plot(x, map(vi_char, x))\n",
    "plt.title('v-i characteristics')\n",
    "plt.grid()"
   ]
  },
  {
   "cell_type": "code",
   "execution_count": 6,
   "metadata": {
    "collapsed": true
   },
   "outputs": [],
   "source": [
    "def derivative(t, y, dimmy):\n",
    "    ''' step function for simulation '''\n",
    "    v_C1 = (G*(y[1]-y[0]) - vi_char(y[0])) / C1\n",
    "    v_C2 = (G*(y[0]-y[1]) + y[2]) / C2\n",
    "    i_L = -y[1] / L\n",
    "    return [v_C1, v_C2, i_L]"
   ]
  },
  {
   "cell_type": "code",
   "execution_count": 22,
   "metadata": {
    "collapsed": false,
    "scrolled": true
   },
   "outputs": [],
   "source": [
    "\n",
    "\n",
    "y0, t0 = [-0.5, -0.2, 0.0], 0.0\n",
    "\n",
    "r = ode(derivative).set_integrator('dopri5')\n",
    "r.set_initial_value(y0, t0).set_f_params(1)\n",
    "\n",
    "t_max = 0.05\n",
    "dt = 0.000005\n",
    "\n",
    "num_steps = t_max / dt + 2\n",
    "v_C1 = np.zeros(num_steps)\n",
    "v_C2 = np.zeros(num_steps)\n",
    "i_L = np.zeros(num_steps)\n",
    "\n",
    "v_C1[0], v_C2[0], i_L[0] = y0\n",
    "\n",
    "f = open('output_%d.csv' % int(time.time()), 'w')\n",
    "idx = 1\n",
    "try:\n",
    "    while r.successful() and r.t < t_max:\n",
    "        r.integrate(r.t+dt)\n",
    "\n",
    "        v_C1[idx], v_C2[idx], i_L[idx] = r.y[0:3]\n",
    "        idx += 1\n",
    "\n",
    "        f.write('%f,%f,%f' % tuple(r.y) + ',%f' % r.t + '\\n')\n",
    "except Exception as e:\n",
    "    f.close()\n",
    "    raise e\n",
    "f.close()"
   ]
  },
  {
   "cell_type": "code",
   "execution_count": 30,
   "metadata": {
    "collapsed": false
   },
   "outputs": [
    {
     "data": {
      "text/plain": [
       "1428314061"
      ]
     },
     "execution_count": 30,
     "metadata": {},
     "output_type": "execute_result"
    }
   ],
   "source": [
    "plt.plot(v_C1, v_C2)"
   ]
  }
 ],
 "metadata": {
  "kernelspec": {
   "display_name": "Python 2",
   "language": "python",
   "name": "python2"
  },
  "language_info": {
   "codemirror_mode": {
    "name": "ipython",
    "version": 2
   },
   "file_extension": ".py",
   "mimetype": "text/x-python",
   "name": "python",
   "nbconvert_exporter": "python",
   "pygments_lexer": "ipython2",
   "version": "2.7.9"
  }
 },
 "nbformat": 4,
 "nbformat_minor": 0
}
