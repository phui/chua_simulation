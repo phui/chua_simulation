{
 "cells": [
  {
   "cell_type": "code",
   "execution_count": 1,
   "metadata": {
    "collapsed": true
   },
   "outputs": [],
   "source": [
    "import os\n",
    "import numpy as np\n",
    "import pandas as pd\n",
    "import matplotlib.pyplot as plt\n",
    "\n",
    "# enablers\n",
    "%matplotlib inline"
   ]
  },
  {
   "cell_type": "code",
   "execution_count": 20,
   "metadata": {
    "collapsed": false
   },
   "outputs": [],
   "source": [
    "class Simple3DMarkovModel(object):\n",
    "    def __init__(self, df, N):\n",
    "        self._data = df.copy()\n",
    "        self._intervals = [np.linspace(np.min(df[name]), np.max(df[name]), N)[1:]\n",
    "                          for name in self._data.columns[:-1]]\n",
    "        self._N = N\n",
    "        \n",
    "    def _get_encoder(self, dim):\n",
    "        def encoder(pt):\n",
    "            idx = 0\n",
    "            for upper_bound in self._intervals[dim]:\n",
    "                #import pdb; pdb.set_trace()\n",
    "                if pt < upper_bound:\n",
    "                    return idx\n",
    "                idx += 1\n",
    "            return idx\n",
    "        return encoder\n",
    "    \n",
    "    def build(self):\n",
    "        cols = self._data.columns\n",
    "        for i in range(len(cols)-1):\n",
    "            self._data[cols[i]] = self._data[cols[i]].apply(self._get_encoder(i))\n",
    "        \n",
    "        cord_map = dict()\n",
    "        trans_matrix = dict()\n",
    "        stat_prob = dict()\n",
    "        loop_records = list()\n",
    "        seen_set = set()\n",
    "        \n",
    "        prev_cord = tuple(df.iloc[0][:-1])\n",
    "        prev_key = 0\n",
    "        key_idx = 1\n",
    "        cord_map[prev_cord] = prev_key\n",
    "        stat_prob[prev_key] = 1\n",
    "        for idx in range(1, len(self._data)):\n",
    "            cur_cord = tuple(self._data.iloc[idx][:-1])\n",
    "            if cur_cord == prev_cord:\n",
    "                continue\n",
    "            \n",
    "            cur_key = -1\n",
    "            if cur_cord in cord_map:\n",
    "                cur_key = cord_map[cur_cord]\n",
    "            else:\n",
    "                cur_key = key_idx\n",
    "                cord_map[cur_cord] = cur_key\n",
    "                key_idx += 1\n",
    "            \n",
    "            trans_matrix[(prev_key, cur_key)] = trans_matrix.get((prev_key, cur_key), 0) + 1\n",
    "            stat_prob[cur_key] = stat_prob.get(cur_key, 0) + 1\n",
    "            prev_key = cur_key\n",
    "            prev_cord = cur_cord\n",
    "        \n",
    "        new_loop = True\n",
    "        loop_start_idx = 0\n",
    "        seen_set.add(tuple(self._data.iloc[0][:-2]))\n",
    "        for idx in range(1, len(df)):\n",
    "            cord = tuple(self._data.iloc[idx][:-2])\n",
    "            if new_loop:\n",
    "                if cord not in seen_set:\n",
    "                    seen_set.add(cord)\n",
    "                    new_loop = False\n",
    "            else:\n",
    "                if cord not in seen_set:\n",
    "                    seen_set.add(cord)\n",
    "                else:\n",
    "                    loop_records.append( (loop_start_idx, idx) )\n",
    "                    \n",
    "                    new_loop = True\n",
    "                    loop_start_idx = idx\n",
    "                    \n",
    "                    seen_set.clear()\n",
    "                    seen_set.add(cord)\n",
    "                    \n",
    "        stat_prob = pd.DataFrame(stat_prob.items(), columns=['node', 'prob'])\n",
    "        stat_prob['prob'] = stat_prob['prob'] / stat_prob['prob'].sum()\n",
    "        \n",
    "        return (loop_records, cord_map, stat_prob,\n",
    "                pd.DataFrame([(key[0], key[1], val) for key, val in trans_matrix.items()],\n",
    "                            columns=['from', 'to', 'count'])\n",
    "                )"
   ]
  },
  {
   "cell_type": "code",
   "execution_count": 3,
   "metadata": {
    "collapsed": false
   },
   "outputs": [],
   "source": [
    "df = pd.read_csv(os.path.join('simulation data', 'output_R1740_1430123192.csv'))"
   ]
  },
  {
   "cell_type": "code",
   "execution_count": 4,
   "metadata": {
    "collapsed": false
   },
   "outputs": [],
   "source": [
    "from math import log\n",
    "def entropy(df):\n",
    "    total = df['count'].sum()\n",
    "    ent = 0.0\n",
    "    for p in df['count'] / total:\n",
    "        ent += -p * log(p, 2)\n",
    "    return ent"
   ]
  },
  {
   "cell_type": "code",
   "execution_count": 53,
   "metadata": {
    "collapsed": false
   },
   "outputs": [
    {
     "data": {
      "text/plain": [
       "<matplotlib.axes._subplots.AxesSubplot at 0x15d2a780>"
      ]
     },
     "execution_count": 53,
     "metadata": {},
     "output_type": "execute_result"
    },
    {
     "data": {
      "image/png": "[encoded data removed]",
      "text/plain": [
       "<matplotlib.figure.Figure at 0x15cafb00>"
      ]
     },
     "metadata": {},
     "output_type": "display_data"
    }
   ],
   "source": []
  },
  {
   "cell_type": "code",
   "execution_count": 42,
   "metadata": {
    "collapsed": false
   },
   "outputs": [
    {
     "name": "stdout",
     "output_type": "stream",
     "text": [
      "N=10 done\n",
      "N=20 done\n"
     ]
    }
   ],
   "source": [
    "import json\n",
    "N = 10\n",
    "step = 10\n",
    "with open(\"test_result.csv\", \"a\", 0) as f:\n",
    "    while N <= 20:\n",
    "        mc = Simple3DMarkovModel(df, N)\n",
    "        loop_records, cord_map, stat_prob, trans_df = mc.build()\n",
    "\n",
    "        stat_prob.sort_index()\n",
    "        ents = trans_df.groupby('from').apply(entropy).sort_index()\n",
    "        ent_rate = ents[ents > 0.0] * stat_prob['prob'][ents > 0.0]\n",
    "        ent_rate = ent_rate.sum()\n",
    "        \n",
    "        f.write(json.dumps([N, ent_rate.item(), stat_prob['prob'].tolist(), [e[1] - e[0] for e in loop_records] ]) + '\\n')\n",
    "        f.flush()\n",
    "        print 'N=%d done' % N\n",
    "        \n",
    "        N += step"
   ]
  }
 ],
 "metadata": {
  "kernelspec": {
   "display_name": "Python 2",
   "language": "python",
   "name": "python2"
  },
  "language_info": {
   "codemirror_mode": {
    "name": "ipython",
    "version": 2
   },
   "file_extension": ".py",
   "mimetype": "text/x-python",
   "name": "python",
   "nbconvert_exporter": "python",
   "pygments_lexer": "ipython2",
   "version": "2.7.9"
  }
 },
 "nbformat": 4,
 "nbformat_minor": 0
}
